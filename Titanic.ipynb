{
 "cells": [
  {
   "cell_type": "markdown",
   "id": "e1ea0733",
   "metadata": {},
   "source": [
    "## Improving Decision Trees"
   ]
  },
  {
   "cell_type": "code",
   "execution_count": 680,
   "id": "6071dc42",
   "metadata": {},
   "outputs": [],
   "source": [
    "# importing libraries\n",
    "import numpy as np\n",
    "import pandas as pd\n",
    "import missingno\n",
    "from sklearn.model_selection import train_test_split\n",
    "from sklearn.tree import DecisionTreeClassifier\n",
    "from sklearn import tree\n",
    "from sklearn.metrics import confusion_matrix, f1_score, precision_score, recall_score\n",
    "import matplotlib.pyplot as plt\n",
    "from sklearn.model_selection import train_test_split\n",
    "from sklearn.linear_model import LogisticRegression\n",
    "from sklearn import preprocessing\n",
    "from sklearn.preprocessing import MinMaxScaler\n",
    "from sklearn.preprocessing import LabelEncoder\n",
    "from sklearn.metrics import confusion_matrix\n",
    "from sklearn.metrics import f1_score, precision_score, recall_score\n",
    "from sklearn.ensemble import BaggingClassifier\n",
    "from sklearn.ensemble import RandomForestClassifier\n",
    "from sklearn.ensemble import AdaBoostClassifier\n",
    "from sklearn.ensemble import RandomForestRegressor\n",
    "from sklearn.metrics import roc_auc_score \n",
    "from sklearn.metrics import roc_curve, auc\n",
    "from subprocess import call"
   ]
  },
  {
   "cell_type": "code",
   "execution_count": 681,
   "id": "d0c1c982",
   "metadata": {},
   "outputs": [
    {
     "data": {
      "text/html": [
       "<div>\n",
       "<style scoped>\n",
       "    .dataframe tbody tr th:only-of-type {\n",
       "        vertical-align: middle;\n",
       "    }\n",
       "\n",
       "    .dataframe tbody tr th {\n",
       "        vertical-align: top;\n",
       "    }\n",
       "\n",
       "    .dataframe thead th {\n",
       "        text-align: right;\n",
       "    }\n",
       "</style>\n",
       "<table border=\"1\" class=\"dataframe\">\n",
       "  <thead>\n",
       "    <tr style=\"text-align: right;\">\n",
       "      <th></th>\n",
       "      <th>PassengerId</th>\n",
       "      <th>Survived</th>\n",
       "      <th>Pclass</th>\n",
       "      <th>Name</th>\n",
       "      <th>Sex</th>\n",
       "      <th>Age</th>\n",
       "      <th>SibSp</th>\n",
       "      <th>Parch</th>\n",
       "      <th>Ticket</th>\n",
       "      <th>Fare</th>\n",
       "      <th>Cabin</th>\n",
       "      <th>Embarked</th>\n",
       "    </tr>\n",
       "  </thead>\n",
       "  <tbody>\n",
       "    <tr>\n",
       "      <th>0</th>\n",
       "      <td>1</td>\n",
       "      <td>0</td>\n",
       "      <td>3</td>\n",
       "      <td>Braund, Mr. Owen Harris</td>\n",
       "      <td>male</td>\n",
       "      <td>22.0</td>\n",
       "      <td>1</td>\n",
       "      <td>0</td>\n",
       "      <td>A/5 21171</td>\n",
       "      <td>7.2500</td>\n",
       "      <td>NaN</td>\n",
       "      <td>S</td>\n",
       "    </tr>\n",
       "    <tr>\n",
       "      <th>1</th>\n",
       "      <td>2</td>\n",
       "      <td>1</td>\n",
       "      <td>1</td>\n",
       "      <td>Cumings, Mrs. John Bradley (Florence Briggs Th...</td>\n",
       "      <td>female</td>\n",
       "      <td>38.0</td>\n",
       "      <td>1</td>\n",
       "      <td>0</td>\n",
       "      <td>PC 17599</td>\n",
       "      <td>71.2833</td>\n",
       "      <td>C85</td>\n",
       "      <td>C</td>\n",
       "    </tr>\n",
       "    <tr>\n",
       "      <th>2</th>\n",
       "      <td>3</td>\n",
       "      <td>1</td>\n",
       "      <td>3</td>\n",
       "      <td>Heikkinen, Miss. Laina</td>\n",
       "      <td>female</td>\n",
       "      <td>26.0</td>\n",
       "      <td>0</td>\n",
       "      <td>0</td>\n",
       "      <td>STON/O2. 3101282</td>\n",
       "      <td>7.9250</td>\n",
       "      <td>NaN</td>\n",
       "      <td>S</td>\n",
       "    </tr>\n",
       "    <tr>\n",
       "      <th>3</th>\n",
       "      <td>4</td>\n",
       "      <td>1</td>\n",
       "      <td>1</td>\n",
       "      <td>Futrelle, Mrs. Jacques Heath (Lily May Peel)</td>\n",
       "      <td>female</td>\n",
       "      <td>35.0</td>\n",
       "      <td>1</td>\n",
       "      <td>0</td>\n",
       "      <td>113803</td>\n",
       "      <td>53.1000</td>\n",
       "      <td>C123</td>\n",
       "      <td>S</td>\n",
       "    </tr>\n",
       "    <tr>\n",
       "      <th>4</th>\n",
       "      <td>5</td>\n",
       "      <td>0</td>\n",
       "      <td>3</td>\n",
       "      <td>Allen, Mr. William Henry</td>\n",
       "      <td>male</td>\n",
       "      <td>35.0</td>\n",
       "      <td>0</td>\n",
       "      <td>0</td>\n",
       "      <td>373450</td>\n",
       "      <td>8.0500</td>\n",
       "      <td>NaN</td>\n",
       "      <td>S</td>\n",
       "    </tr>\n",
       "  </tbody>\n",
       "</table>\n",
       "</div>"
      ],
      "text/plain": [
       "   PassengerId  Survived  Pclass  \\\n",
       "0            1         0       3   \n",
       "1            2         1       1   \n",
       "2            3         1       3   \n",
       "3            4         1       1   \n",
       "4            5         0       3   \n",
       "\n",
       "                                                Name     Sex   Age  SibSp  \\\n",
       "0                            Braund, Mr. Owen Harris    male  22.0      1   \n",
       "1  Cumings, Mrs. John Bradley (Florence Briggs Th...  female  38.0      1   \n",
       "2                             Heikkinen, Miss. Laina  female  26.0      0   \n",
       "3       Futrelle, Mrs. Jacques Heath (Lily May Peel)  female  35.0      1   \n",
       "4                           Allen, Mr. William Henry    male  35.0      0   \n",
       "\n",
       "   Parch            Ticket     Fare Cabin Embarked  \n",
       "0      0         A/5 21171   7.2500   NaN        S  \n",
       "1      0          PC 17599  71.2833   C85        C  \n",
       "2      0  STON/O2. 3101282   7.9250   NaN        S  \n",
       "3      0            113803  53.1000  C123        S  \n",
       "4      0            373450   8.0500   NaN        S  "
      ]
     },
     "execution_count": 681,
     "metadata": {},
     "output_type": "execute_result"
    }
   ],
   "source": [
    "# Readin the titanic dataset\n",
    "\n",
    "df = pd.read_csv('titanic.csv')\n",
    "df.head()"
   ]
  },
  {
   "cell_type": "code",
   "execution_count": 682,
   "id": "1d01068c",
   "metadata": {},
   "outputs": [
    {
     "name": "stdout",
     "output_type": "stream",
     "text": [
      "<class 'pandas.core.frame.DataFrame'>\n",
      "RangeIndex: 891 entries, 0 to 890\n",
      "Data columns (total 12 columns):\n",
      " #   Column       Non-Null Count  Dtype  \n",
      "---  ------       --------------  -----  \n",
      " 0   PassengerId  891 non-null    int64  \n",
      " 1   Survived     891 non-null    int64  \n",
      " 2   Pclass       891 non-null    int64  \n",
      " 3   Name         891 non-null    object \n",
      " 4   Sex          891 non-null    object \n",
      " 5   Age          714 non-null    float64\n",
      " 6   SibSp        891 non-null    int64  \n",
      " 7   Parch        891 non-null    int64  \n",
      " 8   Ticket       891 non-null    object \n",
      " 9   Fare         891 non-null    float64\n",
      " 10  Cabin        204 non-null    object \n",
      " 11  Embarked     889 non-null    object \n",
      "dtypes: float64(2), int64(5), object(5)\n",
      "memory usage: 83.7+ KB\n"
     ]
    }
   ],
   "source": [
    "df.info()"
   ]
  },
  {
   "cell_type": "code",
   "execution_count": 683,
   "id": "d8b0be64",
   "metadata": {},
   "outputs": [
    {
     "data": {
      "text/plain": [
       "<AxesSubplot:>"
      ]
     },
     "execution_count": 683,
     "metadata": {},
     "output_type": "execute_result"
    },
    {
     "data": {
      "image/png": "[encoded data removed]",
      "text/plain": [
       "<Figure size 936x216 with 2 Axes>"
      ]
     },
     "metadata": {
      "needs_background": "light"
     },
     "output_type": "display_data"
    }
   ],
   "source": [
    "# Visualise missing data\n",
    "missingno.matrix(df, figsize = (13,3))"
   ]
  },
  {
   "cell_type": "code",
   "execution_count": 684,
   "id": "1da23eae",
   "metadata": {},
   "outputs": [
    {
     "data": {
      "text/plain": [
       "PassengerId     0.000000\n",
       "Survived        0.000000\n",
       "Pclass          0.000000\n",
       "Name            0.000000\n",
       "Sex             0.000000\n",
       "Age            19.865320\n",
       "SibSp           0.000000\n",
       "Parch           0.000000\n",
       "Ticket          0.000000\n",
       "Fare            0.000000\n",
       "Cabin          77.104377\n",
       "Embarked        0.224467\n",
       "dtype: float64"
      ]
     },
     "execution_count": 684,
     "metadata": {},
     "output_type": "execute_result"
    }
   ],
   "source": [
    "# get the number of missing data points per column\n",
    "\n",
    "missing_values_count = df.isnull().sum()\n",
    "\n",
    "# percentage of missing values\n",
    "\n",
    "missing_values_count / len(df) * 100"
   ]
  },
  {
   "cell_type": "markdown",
   "id": "c3944c08",
   "metadata": {},
   "source": [
    "#### Dealing with Missing Data\n",
    "\n",
    "    1. Age can be imputed over by the median value\n",
    "    2. Cabin values contain 77% missing data, therefore we can drop the entire column\n",
    "    3. Embarked can be imputed over by using the mode of the column"
   ]
  },
  {
   "cell_type": "code",
   "execution_count": 685,
   "id": "93b57291",
   "metadata": {},
   "outputs": [],
   "source": [
    "# Imputing over Age\n",
    "\n",
    "median_age = df.Age.median()\n",
    "df.Age.fillna(median_age, inplace = True)"
   ]
  },
  {
   "cell_type": "code",
   "execution_count": 686,
   "id": "3ce9fb02",
   "metadata": {},
   "outputs": [],
   "source": [
    "# Dropping Cabin column\n",
    "\n",
    "df.drop('Cabin', axis = 1,inplace = True)"
   ]
  },
  {
   "cell_type": "code",
   "execution_count": 687,
   "id": "d9d6a6a6",
   "metadata": {},
   "outputs": [],
   "source": [
    "# Replacing Null values in Embark with the mode\n",
    "\n",
    "df.Embarked = df.Embarked.fillna(df['Embarked'].mode()[0])"
   ]
  },
  {
   "cell_type": "markdown",
   "id": "9193b0de",
   "metadata": {},
   "source": [
    "SibSp stands for sibling count\n",
    "\n",
    "Parch stands for parent count\n",
    "\n",
    "We can combine these 2 column into 1 distinct column to reflect family size"
   ]
  },
  {
   "cell_type": "code",
   "execution_count": 688,
   "id": "667ddbb8",
   "metadata": {},
   "outputs": [],
   "source": [
    "df['Family'] = df['SibSp'] + df['Parch']+1"
   ]
  },
  {
   "cell_type": "markdown",
   "id": "3c2ba714",
   "metadata": {},
   "source": [
    "#### Dropping irrelevant Data\n",
    "\n",
    "We combined SibSp and Parch into 1 column called family. We may then drop these 2 columns as their data is stored in the new column.\n",
    "\n",
    "Name does not impart any relevant meaning for our analysis as we are mainly concerned with the sex/gender of the person.\n",
    "\n",
    "PaseengerID as well as Ticket number, I believe  doesnt depict any relevant meaning for our analysis."
   ]
  },
  {
   "cell_type": "code",
   "execution_count": 689,
   "id": "fc31b990",
   "metadata": {},
   "outputs": [
    {
     "data": {
      "text/html": [
       "<div>\n",
       "<style scoped>\n",
       "    .dataframe tbody tr th:only-of-type {\n",
       "        vertical-align: middle;\n",
       "    }\n",
       "\n",
       "    .dataframe tbody tr th {\n",
       "        vertical-align: top;\n",
       "    }\n",
       "\n",
       "    .dataframe thead th {\n",
       "        text-align: right;\n",
       "    }\n",
       "</style>\n",
       "<table border=\"1\" class=\"dataframe\">\n",
       "  <thead>\n",
       "    <tr style=\"text-align: right;\">\n",
       "      <th></th>\n",
       "      <th>Survived</th>\n",
       "      <th>Pclass</th>\n",
       "      <th>Sex</th>\n",
       "      <th>Age</th>\n",
       "      <th>Fare</th>\n",
       "      <th>Embarked</th>\n",
       "      <th>Family</th>\n",
       "    </tr>\n",
       "  </thead>\n",
       "  <tbody>\n",
       "    <tr>\n",
       "      <th>0</th>\n",
       "      <td>0</td>\n",
       "      <td>3</td>\n",
       "      <td>male</td>\n",
       "      <td>22.0</td>\n",
       "      <td>7.2500</td>\n",
       "      <td>S</td>\n",
       "      <td>2</td>\n",
       "    </tr>\n",
       "    <tr>\n",
       "      <th>1</th>\n",
       "      <td>1</td>\n",
       "      <td>1</td>\n",
       "      <td>female</td>\n",
       "      <td>38.0</td>\n",
       "      <td>71.2833</td>\n",
       "      <td>C</td>\n",
       "      <td>2</td>\n",
       "    </tr>\n",
       "    <tr>\n",
       "      <th>2</th>\n",
       "      <td>1</td>\n",
       "      <td>3</td>\n",
       "      <td>female</td>\n",
       "      <td>26.0</td>\n",
       "      <td>7.9250</td>\n",
       "      <td>S</td>\n",
       "      <td>1</td>\n",
       "    </tr>\n",
       "    <tr>\n",
       "      <th>3</th>\n",
       "      <td>1</td>\n",
       "      <td>1</td>\n",
       "      <td>female</td>\n",
       "      <td>35.0</td>\n",
       "      <td>53.1000</td>\n",
       "      <td>S</td>\n",
       "      <td>2</td>\n",
       "    </tr>\n",
       "    <tr>\n",
       "      <th>4</th>\n",
       "      <td>0</td>\n",
       "      <td>3</td>\n",
       "      <td>male</td>\n",
       "      <td>35.0</td>\n",
       "      <td>8.0500</td>\n",
       "      <td>S</td>\n",
       "      <td>1</td>\n",
       "    </tr>\n",
       "  </tbody>\n",
       "</table>\n",
       "</div>"
      ],
      "text/plain": [
       "   Survived  Pclass     Sex   Age     Fare Embarked  Family\n",
       "0         0       3    male  22.0   7.2500        S       2\n",
       "1         1       1  female  38.0  71.2833        C       2\n",
       "2         1       3  female  26.0   7.9250        S       1\n",
       "3         1       1  female  35.0  53.1000        S       2\n",
       "4         0       3    male  35.0   8.0500        S       1"
      ]
     },
     "execution_count": 689,
     "metadata": {},
     "output_type": "execute_result"
    }
   ],
   "source": [
    "df = df.drop(['Name','Ticket','SibSp','Parch', 'PassengerId'], axis = 1)\n",
    "df.head()"
   ]
  },
  {
   "cell_type": "code",
   "execution_count": 690,
   "id": "57882638",
   "metadata": {},
   "outputs": [
    {
     "data": {
      "text/html": [
       "<div>\n",
       "<style scoped>\n",
       "    .dataframe tbody tr th:only-of-type {\n",
       "        vertical-align: middle;\n",
       "    }\n",
       "\n",
       "    .dataframe tbody tr th {\n",
       "        vertical-align: top;\n",
       "    }\n",
       "\n",
       "    .dataframe thead th {\n",
       "        text-align: right;\n",
       "    }\n",
       "</style>\n",
       "<table border=\"1\" class=\"dataframe\">\n",
       "  <thead>\n",
       "    <tr style=\"text-align: right;\">\n",
       "      <th></th>\n",
       "      <th>Survived</th>\n",
       "      <th>Pclass</th>\n",
       "      <th>Sex</th>\n",
       "      <th>Age</th>\n",
       "      <th>Fare</th>\n",
       "      <th>Embarked</th>\n",
       "      <th>Family</th>\n",
       "    </tr>\n",
       "  </thead>\n",
       "  <tbody>\n",
       "    <tr>\n",
       "      <th>0</th>\n",
       "      <td>0</td>\n",
       "      <td>3</td>\n",
       "      <td>1</td>\n",
       "      <td>22.0</td>\n",
       "      <td>7.2500</td>\n",
       "      <td>2</td>\n",
       "      <td>2</td>\n",
       "    </tr>\n",
       "    <tr>\n",
       "      <th>1</th>\n",
       "      <td>1</td>\n",
       "      <td>1</td>\n",
       "      <td>0</td>\n",
       "      <td>38.0</td>\n",
       "      <td>71.2833</td>\n",
       "      <td>0</td>\n",
       "      <td>2</td>\n",
       "    </tr>\n",
       "    <tr>\n",
       "      <th>2</th>\n",
       "      <td>1</td>\n",
       "      <td>3</td>\n",
       "      <td>0</td>\n",
       "      <td>26.0</td>\n",
       "      <td>7.9250</td>\n",
       "      <td>2</td>\n",
       "      <td>1</td>\n",
       "    </tr>\n",
       "    <tr>\n",
       "      <th>3</th>\n",
       "      <td>1</td>\n",
       "      <td>1</td>\n",
       "      <td>0</td>\n",
       "      <td>35.0</td>\n",
       "      <td>53.1000</td>\n",
       "      <td>2</td>\n",
       "      <td>2</td>\n",
       "    </tr>\n",
       "    <tr>\n",
       "      <th>4</th>\n",
       "      <td>0</td>\n",
       "      <td>3</td>\n",
       "      <td>1</td>\n",
       "      <td>35.0</td>\n",
       "      <td>8.0500</td>\n",
       "      <td>2</td>\n",
       "      <td>1</td>\n",
       "    </tr>\n",
       "  </tbody>\n",
       "</table>\n",
       "</div>"
      ],
      "text/plain": [
       "   Survived  Pclass  Sex   Age     Fare  Embarked  Family\n",
       "0         0       3    1  22.0   7.2500         2       2\n",
       "1         1       1    0  38.0  71.2833         0       2\n",
       "2         1       3    0  26.0   7.9250         2       1\n",
       "3         1       1    0  35.0  53.1000         2       2\n",
       "4         0       3    1  35.0   8.0500         2       1"
      ]
     },
     "execution_count": 690,
     "metadata": {},
     "output_type": "execute_result"
    }
   ],
   "source": [
    "# Encoding Categorical Values \n",
    "\n",
    "le = LabelEncoder()\n",
    "df['Sex'] = le.fit_transform(df['Sex'])\n",
    "\n",
    "le = LabelEncoder()\n",
    "df['Embarked'] = le.fit_transform(df['Embarked'])\n",
    "\n",
    "df.head()"
   ]
  },
  {
   "cell_type": "markdown",
   "id": "20decf8f",
   "metadata": {},
   "source": [
    "#### Preparing X and y variables"
   ]
  },
  {
   "cell_type": "code",
   "execution_count": 691,
   "id": "e2bc7885",
   "metadata": {},
   "outputs": [],
   "source": [
    "X = df.loc[:,df.columns != 'Survived']\n",
    "y = df.Survived"
   ]
  },
  {
   "cell_type": "code",
   "execution_count": 692,
   "id": "936ee517",
   "metadata": {},
   "outputs": [
    {
     "name": "stdout",
     "output_type": "stream",
     "text": [
      "(534, 6)\n",
      "(224, 6)\n",
      "(133, 6)\n"
     ]
    }
   ],
   "source": [
    "# Splitting data into training, development and testing\n",
    "# 60% trained data, 25% development and 15% test\n",
    "\n",
    "# Performing initial Split into trained and testing sets\n",
    "X_train, X_test, y_train, y_test = train_test_split(X, y, train_size=0.6, random_state=42, stratify=y)\n",
    "\n",
    "# Further splitting the testing set into Validation and test\n",
    "X_test, X_valid, y_test, y_valid = train_test_split(X_test, y_test, train_size=0.375, random_state=42, stratify=y_test)\n",
    "\n",
    "\n",
    "print(X_train.shape)\n",
    "print(X_valid.shape)\n",
    "print(X_test.shape)"
   ]
  },
  {
   "cell_type": "code",
   "execution_count": 693,
   "id": "665d5552",
   "metadata": {},
   "outputs": [
    {
     "name": "stdout",
     "output_type": "stream",
     "text": [
      "Accuracy without a Specified Max Depth: 0.7723214285714286\n",
      "At depth: 17\n"
     ]
    }
   ],
   "source": [
    "# training a model on the development set\n",
    "\n",
    "trained = DecisionTreeClassifier(max_depth=None, random_state=42)\n",
    "trained.fit(X_train, y_train)\n",
    "print(\"Accuracy without a Specified Max Depth:\", trained.score(X_valid, y_valid))\n",
    "print(\"At depth:\", trained.tree_.max_depth)"
   ]
  },
  {
   "cell_type": "code",
   "execution_count": 694,
   "id": "59be3bcc",
   "metadata": {},
   "outputs": [
    {
     "data": {
      "image/png": "[encoded data removed]",
      "text/plain": [
       "<Figure size 432x288 with 1 Axes>"
      ]
     },
     "metadata": {
      "needs_background": "light"
     },
     "output_type": "display_data"
    }
   ],
   "source": [
    "# Plotting the Effect on a line Graph  \n",
    "no_depths = range(1,trained.tree_.max_depth+1)\n",
    "\n",
    "no_depth_scores = [] \n",
    "for d in no_depths:\n",
    "  clf = DecisionTreeClassifier(max_depth=d, random_state=42)\n",
    "  clf.fit(X_train, y_train)\n",
    "  score = clf.score(X_valid, y_valid)\n",
    "  no_depth_scores.append(score)\n",
    "\n",
    "fig, ax = plt.subplots()\n",
    "ax.plot(no_depths, no_depth_scores)\n",
    "plt.xlabel(\"Max_depth values\")\n",
    "plt.ylabel(\"Accuracy\")\n",
    "ax.xaxis.set_ticks(no_depths)\n",
    "plt.title('Line Graph showing Accuracy of Model on Development Set')\n",
    "plt.show()"
   ]
  },
  {
   "cell_type": "markdown",
   "id": "8888a95f",
   "metadata": {},
   "source": [
    "### Creating Different Models\n",
    "\n",
    "For this task, we will be creating 3 different decision tree models:\n",
    "\n",
    "    1. Decision Tree\n",
    "    2. Bagging the Dataset\n",
    "    3. Random Forest Technique\n",
    "    4. Boosted Tree Technique\n",
    "    \n",
    "We will be using our trained data to make predictions on the Development dataset. Once we are happy with the accuracy of each model, we will then choose the best model based of the development dataset and apply it to our test dataset."
   ]
  },
  {
   "cell_type": "markdown",
   "id": "ec0f0a4a",
   "metadata": {},
   "source": [
    "#### Decision Tree"
   ]
  },
  {
   "cell_type": "code",
   "execution_count": 696,
   "id": "e80aab2e",
   "metadata": {},
   "outputs": [
    {
     "name": "stdout",
     "output_type": "stream",
     "text": [
      "Accuracy of a Decision Tree: 0.7723214285714286\n"
     ]
    }
   ],
   "source": [
    "trained = DecisionTreeClassifier(max_depth=None, random_state=42)\n",
    "trained.fit(X_train, y_train)\n",
    "\n",
    "print(\"Accuracy of a Decision Tree:\", trained.score(X_valid, y_valid))"
   ]
  },
  {
   "cell_type": "markdown",
   "id": "25818d05",
   "metadata": {},
   "source": [
    "#### Bagged Classifier"
   ]
  },
  {
   "cell_type": "code",
   "execution_count": 699,
   "id": "4fbe2429",
   "metadata": {},
   "outputs": [
    {
     "name": "stdout",
     "output_type": "stream",
     "text": [
      "Accuracy of Development Dataset using Bagging Method:\n",
      "= 0.7991071428571429\n"
     ]
    }
   ],
   "source": [
    "# Creating a comparison between Initial Decision Tree model and Bagged model\n",
    "\n",
    "ensemble = BaggingClassifier(base_estimator=trained, n_estimators=100, random_state=42)\n",
    "\n",
    "ensemble.fit(X_train,y_train)\n",
    "\n",
    "print(\"Accuracy of Development Dataset using Bagging Method:\\n=\",ensemble.score(X_valid, y_valid))"
   ]
  },
  {
   "cell_type": "markdown",
   "id": "91e655cc",
   "metadata": {},
   "source": [
    "Here we see that our initial Decison Tree  gave a model accuracy score of 77.23% while our Bagged Dataset approach gave us a model accuracy score of 79.91%. These scores are based on how accurately our model can make predictions for our 25% development datasets. "
   ]
  },
  {
   "cell_type": "markdown",
   "id": "f2d68034",
   "metadata": {},
   "source": [
    "#### Random Forest Classifier"
   ]
  },
  {
   "cell_type": "code",
   "execution_count": 675,
   "id": "8ecac501",
   "metadata": {},
   "outputs": [
    {
     "name": "stdout",
     "output_type": "stream",
     "text": [
      "Accuracy of Development Dataset using Random Forests:\n",
      "= 0.7946428571428571\n"
     ]
    }
   ],
   "source": [
    "# Create a comparision between initial Decision Tree model and Random Forest Model.\n",
    "\n",
    "forest = RandomForestClassifier(n_estimators=100, oob_score=True, random_state=42)\n",
    "\n",
    "forest.fit(X_train, y_train)\n",
    "\n",
    "print(\"Accuracy of Development Dataset using Random Forests:\\n=\",forest.score(X_valid, y_valid))"
   ]
  },
  {
   "cell_type": "code",
   "execution_count": 676,
   "id": "6df74758",
   "metadata": {},
   "outputs": [
    {
     "name": "stdout",
     "output_type": "stream",
     "text": [
      "Out-of-Bag Score of Development Dataset using Random Forests:\n",
      "= 0.3742683962175124\n"
     ]
    }
   ],
   "source": [
    "# We first need to calculate the oob_score\n",
    "# This gives us the R^2 score of our model which will allow us to calcualte the c-stat of our Random Forest model.\n",
    "\n",
    "forest = RandomForestRegressor(n_estimators=100, oob_score=True, random_state=42)\n",
    "\n",
    "forest.fit(X_train, y_train)\n",
    "\n",
    "print(\"Out-of-Bag Score of Development Dataset using Random Forests:\\n=\",forest.oob_score_)"
   ]
  },
  {
   "cell_type": "markdown",
   "id": "be64f8c4",
   "metadata": {},
   "source": [
    "The Out of Bag Score is another name for the R^2 of the model. Currently our Random Forest model is displaying a R^2 value of 0.37\n",
    "\n",
    "What we find here is that our Random Forest Model gave is that there is a low correlation between our data features to the y variable."
   ]
  },
  {
   "cell_type": "code",
   "execution_count": 677,
   "id": "8603b76e",
   "metadata": {},
   "outputs": [
    {
     "name": "stdout",
     "output_type": "stream",
     "text": [
      "c-stat:  0.8531173548817554\n"
     ]
    }
   ],
   "source": [
    "# Calculate the c-stat of the model\n",
    "\n",
    "y_oob = forest.oob_prediction_\n",
    "print('c-stat: ', roc_auc_score(y_train, y_oob))"
   ]
  },
  {
   "cell_type": "markdown",
   "id": "652f81db",
   "metadata": {},
   "source": [
    "The C-Stat is a value that allows us to impose a value to the goodness of fit of our model. The closer that value is to 1, the more likely the model is able to make accurate predictions. Our C-Stat of the random forest model is shown as 0.853. This is a very good score and the Random Forest Model has a high chance of making accurate predictions."
   ]
  },
  {
   "cell_type": "markdown",
   "id": "1c03b4c8",
   "metadata": {},
   "source": [
    "####  Boosted Tree Classifier"
   ]
  },
  {
   "cell_type": "code",
   "execution_count": 701,
   "id": "54208dce",
   "metadata": {},
   "outputs": [
    {
     "name": "stdout",
     "output_type": "stream",
     "text": [
      "Accuracy of Development Dataset using the Boosted Tree model:\n",
      " 0.8080357142857143\n"
     ]
    }
   ],
   "source": [
    "# Create a Boosted Tree model\n",
    "\n",
    "boost = AdaBoostClassifier(n_estimators=100, random_state=42)\n",
    "\n",
    "boost.fit(X_train, y_train)\n",
    "\n",
    "print('Accuracy of Development Dataset using the Boosted Tree model:\\n',boost.score(X_valid,y_valid))"
   ]
  },
  {
   "cell_type": "markdown",
   "id": "baa0a732",
   "metadata": {},
   "source": [
    "## Feature Importance\n",
    "\n",
    "### Using the Random Forest Model"
   ]
  },
  {
   "cell_type": "markdown",
   "id": "9d788e9d",
   "metadata": {},
   "source": [
    "We first have to normalize our dataset as Fare and Age contain values with large ranges compare to the other numeric data values contained in our data set"
   ]
  },
  {
   "cell_type": "markdown",
   "id": "86cb2d1e",
   "metadata": {},
   "source": [
    "#### Normalizing the Data Set"
   ]
  },
  {
   "cell_type": "code",
   "execution_count": 604,
   "id": "9352167d",
   "metadata": {},
   "outputs": [
    {
     "data": {
      "text/html": [
       "<div>\n",
       "<style scoped>\n",
       "    .dataframe tbody tr th:only-of-type {\n",
       "        vertical-align: middle;\n",
       "    }\n",
       "\n",
       "    .dataframe tbody tr th {\n",
       "        vertical-align: top;\n",
       "    }\n",
       "\n",
       "    .dataframe thead th {\n",
       "        text-align: right;\n",
       "    }\n",
       "</style>\n",
       "<table border=\"1\" class=\"dataframe\">\n",
       "  <thead>\n",
       "    <tr style=\"text-align: right;\">\n",
       "      <th></th>\n",
       "      <th>Pclass</th>\n",
       "      <th>Sex</th>\n",
       "      <th>Age</th>\n",
       "      <th>Fare</th>\n",
       "      <th>Embarked</th>\n",
       "      <th>Family</th>\n",
       "    </tr>\n",
       "  </thead>\n",
       "  <tbody>\n",
       "    <tr>\n",
       "      <th>0</th>\n",
       "      <td>1.0</td>\n",
       "      <td>1.0</td>\n",
       "      <td>0.271174</td>\n",
       "      <td>0.014151</td>\n",
       "      <td>1.0</td>\n",
       "      <td>0.1</td>\n",
       "    </tr>\n",
       "    <tr>\n",
       "      <th>1</th>\n",
       "      <td>0.0</td>\n",
       "      <td>0.0</td>\n",
       "      <td>0.472229</td>\n",
       "      <td>0.139136</td>\n",
       "      <td>0.0</td>\n",
       "      <td>0.1</td>\n",
       "    </tr>\n",
       "    <tr>\n",
       "      <th>2</th>\n",
       "      <td>1.0</td>\n",
       "      <td>0.0</td>\n",
       "      <td>0.321438</td>\n",
       "      <td>0.015469</td>\n",
       "      <td>1.0</td>\n",
       "      <td>0.0</td>\n",
       "    </tr>\n",
       "    <tr>\n",
       "      <th>3</th>\n",
       "      <td>0.0</td>\n",
       "      <td>0.0</td>\n",
       "      <td>0.434531</td>\n",
       "      <td>0.103644</td>\n",
       "      <td>1.0</td>\n",
       "      <td>0.1</td>\n",
       "    </tr>\n",
       "    <tr>\n",
       "      <th>4</th>\n",
       "      <td>1.0</td>\n",
       "      <td>1.0</td>\n",
       "      <td>0.434531</td>\n",
       "      <td>0.015713</td>\n",
       "      <td>1.0</td>\n",
       "      <td>0.0</td>\n",
       "    </tr>\n",
       "  </tbody>\n",
       "</table>\n",
       "</div>"
      ],
      "text/plain": [
       "   Pclass  Sex       Age      Fare  Embarked  Family\n",
       "0     1.0  1.0  0.271174  0.014151       1.0     0.1\n",
       "1     0.0  0.0  0.472229  0.139136       0.0     0.1\n",
       "2     1.0  0.0  0.321438  0.015469       1.0     0.0\n",
       "3     0.0  0.0  0.434531  0.103644       1.0     0.1\n",
       "4     1.0  1.0  0.434531  0.015713       1.0     0.0"
      ]
     },
     "execution_count": 604,
     "metadata": {},
     "output_type": "execute_result"
    }
   ],
   "source": [
    "# Dropping Column 'Survived'\n",
    "LABEL = 'Survived'\n",
    "y = df[LABEL]\n",
    "df = df.drop(LABEL, axis=1)\n",
    "\n",
    "# Scaling our dataset\n",
    "\n",
    "scaler = MinMaxScaler()\n",
    "scaled_train = scaler.fit_transform(df)\n",
    "\n",
    "scaled_train = pd.DataFrame(scaled_train, columns=df.columns, index=df.index)\n",
    "\n",
    "scaled_train.head()"
   ]
  },
  {
   "cell_type": "code",
   "execution_count": 621,
   "id": "8a469f3f",
   "metadata": {},
   "outputs": [
    {
     "name": "stdout",
     "output_type": "stream",
     "text": [
      "(668, 6) (223, 6)\n",
      "(668,) (223,)\n"
     ]
    },
    {
     "data": {
      "text/plain": [
       "RandomForestClassifier()"
      ]
     },
     "execution_count": 621,
     "metadata": {},
     "output_type": "execute_result"
    }
   ],
   "source": [
    "# Splitting our newly scaled data into training and test sets\n",
    "\n",
    "X_train, X_test, y_train, y_test = train_test_split(scaled_train, y, test_size=0.25, shuffle=True)\n",
    "print(X_train.shape, X_test.shape)\n",
    "print(y_train.shape, y_test.shape)\n",
    "\n",
    "clf = RandomForestClassifier(n_estimators=100)\n",
    "\n",
    "#Train the model using the training set\n",
    "clf.fit(X_train, y_train)"
   ]
  },
  {
   "cell_type": "code",
   "execution_count": 622,
   "id": "2a98fa84",
   "metadata": {},
   "outputs": [
    {
     "data": {
      "text/plain": [
       "Sex         0.281316\n",
       "Fare        0.265162\n",
       "Age         0.255001\n",
       "Pclass      0.084152\n",
       "Family      0.082858\n",
       "Embarked    0.031511\n",
       "dtype: float64"
      ]
     },
     "execution_count": 622,
     "metadata": {},
     "output_type": "execute_result"
    }
   ],
   "source": [
    "# Creating a simple version to show all variables\n",
    "R_forest = RandomForestClassifier(n_estimators=100, random_state=42)\n",
    "\n",
    "R_forest.fit(X_train, y_train)\n",
    "\n",
    "feature_importance = pd.Series(R_forest.feature_importances_, index=X_train.columns).sort_values(ascending=False)\n",
    "feature_importance"
   ]
  },
  {
   "cell_type": "code",
   "execution_count": 623,
   "id": "36213f8b",
   "metadata": {},
   "outputs": [
    {
     "data": {
      "image/png": "[encoded data removed]",
      "text/plain": [
       "<Figure size 720x432 with 1 Axes>"
      ]
     },
     "metadata": {
      "needs_background": "light"
     },
     "output_type": "display_data"
    }
   ],
   "source": [
    "# Creating a graph to depict Feature Importance\n",
    "\n",
    "plt.figure(figsize=(10,6))\n",
    "sns.barplot(x=feature_importance, y=feature_importance.index)\n",
    "plt.xlabel('Feature Importance Score')\n",
    "plt.ylabel('Features')\n",
    "plt.title(\"Visualizing Important Features\")\n",
    "plt.tight_layout()"
   ]
  },
  {
   "cell_type": "markdown",
   "id": "3a4e3002",
   "metadata": {},
   "source": [
    "Here we see that Sex, Fare and Age are all high contributors to whether a passenger survived or not. Sex shows the highest predictor to survival from our trained dataset. Fare can be reasoned that depending on which cabin you paid for, correlates to where on the ship you were positioned during the sinking. Age is the third highest contributor to survival and can be inferred that Age determines whether or not you are a child or Adult. Children were more likelt to have survived than Adults."
   ]
  },
  {
   "cell_type": "markdown",
   "id": "8a462e9e",
   "metadata": {},
   "source": [
    "## Model Tuning\n",
    "\n",
    "### Selecting Random Forests"
   ]
  },
  {
   "cell_type": "markdown",
   "id": "4d3315ab",
   "metadata": {},
   "source": [
    "#### n_estimators"
   ]
  },
  {
   "cell_type": "code",
   "execution_count": 628,
   "id": "506b61fe",
   "metadata": {},
   "outputs": [
    {
     "name": "stdout",
     "output_type": "stream",
     "text": [
      "30 trees\n",
      "c-stat: 0.8547962454212454\n",
      "\n",
      "50 trees\n",
      "c-stat: 0.8585927960927962\n",
      "\n",
      "100 trees\n",
      "c-stat: 0.8600713522588522\n",
      "\n",
      "200 trees\n",
      "c-stat: 0.8640586843711843\n",
      "\n",
      "500 trees\n",
      "c-stat: 0.8649505876068376\n",
      "\n",
      "1000 trees\n",
      "c-stat: 0.8648075015262515\n",
      "\n",
      "2000 trees\n",
      "c-stat: 0.8652892246642248\n",
      "\n"
     ]
    },
    {
     "data": {
      "image/png": "[encoded data removed]",
      "text/plain": [
       "<Figure size 432x288 with 1 Axes>"
      ]
     },
     "metadata": {
      "needs_background": "light"
     },
     "output_type": "display_data"
    }
   ],
   "source": [
    "# Creating a function to iterate over multiple n_estimates of the dataset\n",
    "results = []\n",
    "n_estimator_options = [30, 50, 100, 200, 500, 1000, 2000]\n",
    "\n",
    "for trees in n_estimator_options:\n",
    "    model = RandomForestRegressor(trees, oob_score=True, n_jobs=-1, random_state=42)\n",
    "    model.fit(X_train, y_train)\n",
    "    print(trees, 'trees')\n",
    "    roc = roc_auc_score(y_train, model.oob_prediction_)\n",
    "    print('c-stat:',roc)\n",
    "    results.append(roc)\n",
    "    print('')\n",
    "\n",
    "pd.Series(results, n_estimator_options).plot()\n",
    "plt.title('Plot representing Accuracy Score Over x sample of Random Trees')\n",
    "plt.show()"
   ]
  },
  {
   "cell_type": "markdown",
   "id": "aed43eb4",
   "metadata": {},
   "source": [
    "Here what I have done was simulate our random forest generating predictions over 30, 50, 500, 2000 etc samples. We find that initially there is an increase in accuracy, however, as it tend towards 500 samples, our model begins to stable out. This means that we do not need to simulate anymore than 500 trees to achieve optimum accuracy of the model."
   ]
  },
  {
   "cell_type": "markdown",
   "id": "44ed9848",
   "metadata": {},
   "source": [
    "#### Minimum Samples per branch"
   ]
  },
  {
   "cell_type": "code",
   "execution_count": 634,
   "id": "9db681c3",
   "metadata": {},
   "outputs": [
    {
     "name": "stdout",
     "output_type": "stream",
     "text": [
      "2 Min_Samples\n",
      "c-stat: 0.8659092643467643\n",
      "\n",
      "4 Min_Samples\n",
      "c-stat: 0.8724149114774116\n",
      "\n",
      "6 Min_Samples\n",
      "c-stat: 0.8741080967643468\n",
      "\n",
      "8 Min_Samples\n",
      "c-stat: 0.8734260531135533\n",
      "\n",
      "10 Min_Samples\n",
      "c-stat: 0.8752432463369964\n",
      "\n",
      "12 Min_Samples\n",
      "c-stat: 0.8752289377289378\n",
      "\n",
      "14 Min_Samples\n",
      "c-stat: 0.8728441697191698\n",
      "\n",
      "16 Min_Samples\n",
      "c-stat: 0.8699490613553114\n",
      "\n"
     ]
    },
    {
     "data": {
      "image/png": "[encoded data removed]",
      "text/plain": [
       "<Figure size 432x288 with 1 Axes>"
      ]
     },
     "metadata": {
      "needs_background": "light"
     },
     "output_type": "display_data"
    }
   ],
   "source": [
    "# Create a function to show how accurate the model performs based on minimum observations needed\n",
    "\n",
    "results = []\n",
    "min_sample_option = [2, 4, 6, 8, 10, 12, 14, 16]\n",
    "\n",
    "for min_sample in min_sample_option:\n",
    "    model = RandomForestRegressor(n_estimators=100, oob_score=True, n_jobs=-1, random_state=42, max_features='auto',\n",
    "                                 min_samples_leaf=min_sample)\n",
    "    model.fit(X_train, y_train)\n",
    "    print(min_sample, 'Min_Samples')\n",
    "    roc = roc_auc_score(y_train, model.oob_prediction_)\n",
    "    print('c-stat:',roc)\n",
    "    results.append(roc)\n",
    "    print('')\n",
    "\n",
    "pd.Series(results, min_sample_option).plot()\n",
    "plt.title('Plot representing Accuracy Score Over x sample of Random Trees')\n",
    "plt.show()"
   ]
  },
  {
   "cell_type": "markdown",
   "id": "ff116fe6",
   "metadata": {},
   "source": [
    "What we find from the above values, is where, based on the sample size, do we tend to maximise our data. We find that where we continue to split our data between 10 and 12 splits, we obtained the best accuracy of the random tree model. "
   ]
  },
  {
   "cell_type": "markdown",
   "id": "5a04f0e6",
   "metadata": {},
   "source": [
    "#### Max Tree Depth"
   ]
  },
  {
   "cell_type": "code",
   "execution_count": 647,
   "id": "326d46e0",
   "metadata": {},
   "outputs": [
    {
     "data": {
      "image/png": "[encoded data removed]",
      "text/plain": [
       "<Figure size 432x288 with 1 Axes>"
      ]
     },
     "metadata": {
      "needs_background": "light"
     },
     "output_type": "display_data"
    }
   ],
   "source": [
    "# Create a function to depict Max Tree depth needed for Optimum accuracy\n",
    "\n",
    "max_depths = np.linspace(1, 32, 32, endpoint=True)\n",
    "train_results = []\n",
    "test_results = []\n",
    "\n",
    "for max_depth in max_depths:\n",
    "   rf = RandomForestClassifier(max_depth=max_depth, n_jobs=-1)\n",
    "   rf.fit(X_train, y_train)\n",
    "   train_pred = rf.predict(X_train)\n",
    "   false_positive_rate, true_positive_rate, thresholds = roc_curve(y_train, train_pred)\n",
    "   roc_auc = auc(false_positive_rate, true_positive_rate)\n",
    "   train_results.append(roc_auc)\n",
    "   y_pred = rf.predict(X_test)\n",
    "   false_positive_rate, true_positive_rate, thresholds = roc_curve(y_test, y_pred)\n",
    "   roc_auc = auc(false_positive_rate, true_positive_rate)\n",
    "   test_results.append(roc_auc)\n",
    "    \n",
    "from matplotlib.legend_handler import HandlerLine2D\n",
    "line1, = plt.plot(max_depths, train_results, 'b', label='Train AUC')\n",
    "line2, = plt.plot(max_depths, test_results, 'r', label='Test AUC')\n",
    "plt.legend(handler_map={line1: HandlerLine2D(numpoints=2)})\n",
    "plt.ylabel('AUC score')\n",
    "plt.xlabel('Tree depth')\n",
    "plt.show()"
   ]
  },
  {
   "cell_type": "markdown",
   "id": "2bf50d70",
   "metadata": {},
   "source": [
    "The trees perfectly predicts all of the trained data, however, it fails to generalize the findings for new data."
   ]
  },
  {
   "cell_type": "markdown",
   "id": "9ee30b94",
   "metadata": {},
   "source": [
    "### Initial Random Forest Tree"
   ]
  },
  {
   "cell_type": "code",
   "execution_count": 656,
   "id": "421ce117",
   "metadata": {},
   "outputs": [
    {
     "name": "stdout",
     "output_type": "stream",
     "text": [
      "Accuracy of Trained Dataset using Random Forests:\n",
      "= 0.7713004484304933\n",
      "c-stat:\n",
      "= 0.8600713522588522\n"
     ]
    }
   ],
   "source": [
    "# Producing the initla accuracy and c-stat score of the model before pruning\n",
    "forest = RandomForestClassifier(n_estimators=100, oob_score=True, random_state=42)\n",
    "\n",
    "forest.fit(X_train, y_train)\n",
    "\n",
    "print(\"Accuracy of Trained Dataset using Random Forests:\\n=\",forest.score(X_test, y_test))\n",
    "\n",
    "# Calculate the c-stat of the model\n",
    "\n",
    "Cforest = RandomForestRegressor(n_estimators=100, oob_score=True, random_state=42)\n",
    "Cforest.fit(X_train, y_train)\n",
    "y_oob = Cforest.oob_prediction_\n",
    "print('c-stat:\\n=', roc_auc_score(y_train, y_oob))"
   ]
  },
  {
   "cell_type": "markdown",
   "id": "8f55f719",
   "metadata": {},
   "source": [
    "### Final Random Forest with Pruning"
   ]
  },
  {
   "cell_type": "code",
   "execution_count": 657,
   "id": "84740191",
   "metadata": {},
   "outputs": [
    {
     "name": "stdout",
     "output_type": "stream",
     "text": [
      "Accuracy of Trained Dataset using Random Forests:\n",
      "= 0.7937219730941704\n",
      "c-stat:\n",
      "= 0.8752289377289378\n"
     ]
    }
   ],
   "source": [
    "Rforest = RandomForestClassifier(n_estimators=500, oob_score=True, random_state=42, max_depth=15, min_samples_leaf=12)\n",
    "\n",
    "Rforest.fit(X_train, y_train)\n",
    "\n",
    "print(\"Accuracy of Trained Dataset using Random Forests:\\n=\",Rforest.score(X_test, y_test))\n",
    "\n",
    "# Calculate the c-stat of the model\n",
    "\n",
    "R_forest = RandomForestRegressor(n_estimators=100, oob_score=True, random_state=42, max_depth=15, min_samples_leaf=12)\n",
    "R_forest.fit(X_train, y_train)\n",
    "y_oob = R_forest.oob_prediction_\n",
    "print('c-stat:\\n=', roc_auc_score(y_train, y_oob))"
   ]
  },
  {
   "cell_type": "markdown",
   "id": "c4d6cdbb",
   "metadata": {},
   "source": [
    "## Best Model"
   ]
  },
  {
   "cell_type": "markdown",
   "id": "1fcc6bcd",
   "metadata": {},
   "source": [
    "#### Decision Tree\n",
    "\n",
    "Accuracy Score = 0.7723214285714286\n",
    "Max_depth = None\n",
    "\n",
    "#### Bagging\n",
    "\n",
    "Accuracy Score = 0.7991071428571429\n",
    "\n",
    "#### Random Forest\n",
    "\n",
    "Accuracy Score = 0.7937219730941704\n",
    "Max_depth = 12\n",
    "\n",
    "#### Boosting\n",
    "\n",
    "Accuracy Score = 0.8080357142857143\n",
    "\n",
    "Above are the calculated Accuracy scores of each model. The score gives us an indication as to how well suited the model is for perdicting unkown and new data. We see that our initial Decision Tree performed the worst with the Boosted Tree having performed the best. "
   ]
  }
 ],
 "metadata": {
  "kernelspec": {
   "display_name": "Python 3 (ipykernel)",
   "language": "python",
   "name": "python3"
  },
  "language_info": {
   "codemirror_mode": {
    "name": "ipython",
    "version": 3
   },
   "file_extension": ".py",
   "mimetype": "text/x-python",
   "name": "python",
   "nbconvert_exporter": "python",
   "pygments_lexer": "ipython3",
   "version": "3.9.7"
  }
 },
 "nbformat": 4,
 "nbformat_minor": 5
}
